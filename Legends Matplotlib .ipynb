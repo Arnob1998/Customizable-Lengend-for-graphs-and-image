{
 "cells": [
  {
   "cell_type": "markdown",
   "id": "9c4877b4",
   "metadata": {},
   "source": [
    "### Manual Legend"
   ]
  },
  {
   "cell_type": "code",
   "execution_count": 1,
   "id": "cc537acb",
   "metadata": {},
   "outputs": [],
   "source": [
    "from skimage import io, color\n",
    "import matplotlib.patches as mpatches\n",
    "\n",
    "def custom_legends(label,color,text_size):\n",
    "    labels = label\n",
    "    colors = color\n",
    "    patches = [ mpatches.Patch(color=colors[i], label=\"{l}\".format(l=labels[i]) ) for i in range(len(labels))]\n",
    "    plt.legend(handles=patches, bbox_to_anchor=(1.05, 1), loc=2, borderaxespad=0, fontsize=text_size)"
   ]
  },
  {
   "cell_type": "markdown",
   "id": "20454421",
   "metadata": {},
   "source": [
    "##### Note: label and color must be the same len"
   ]
  },
  {
   "cell_type": "markdown",
   "id": "8e03ca60",
   "metadata": {},
   "source": [
    "to change the position customize the parameter\n",
    "* bbox_to_anchor\n",
    "* loc\n",
    "* borderaxespad"
   ]
  },
  {
   "cell_type": "raw",
   "id": "d49a2c79",
   "metadata": {},
   "source": [
    "use after plotting a graph that has no legend\n",
    "Example-\n",
    "\n",
    "plot.pie(...)\n",
    "custom_legends(df['category'].index,[\"#348ABD\", \"#A60628\", \"#7A68A6\", \"#467821\"], 23)"
   ]
  },
  {
   "cell_type": "markdown",
   "id": "d4169e07",
   "metadata": {},
   "source": [
    "### Preset for color parameter"
   ]
  },
  {
   "cell_type": "markdown",
   "id": "665c91b7",
   "metadata": {},
   "source": [
    "To use color preset from matplotlib, pass"
   ]
  },
  {
   "cell_type": "raw",
   "id": "4e6ecbbc",
   "metadata": {},
   "source": [
    "color = plt.rcParams['axes.prop_cycle'].by_key()['color']"
   ]
  },
  {
   "cell_type": "markdown",
   "id": "053b008d",
   "metadata": {},
   "source": [
    "##### Note:\n",
    "won't work with color len < total color used in the graph\n",
    "all presets below has limited number of (main) color.\n",
    "\n",
    "if the plot uses more then that (will use different luminance/chorma/hue of the same colors in loop) then the method above won't work. will have to pass the hexcode of those color manually "
   ]
  },
  {
   "cell_type": "markdown",
   "id": "22629ab1",
   "metadata": {},
   "source": [
    "### Preset libray with name,len and hexcode"
   ]
  },
  {
   "cell_type": "code",
   "execution_count": 3,
   "id": "0400bcfb",
   "metadata": {},
   "outputs": [
    {
     "name": "stdout",
     "output_type": "stream",
     "text": [
      "                      bmh: #348ABD, #A60628, #7A68A6, #467821, #D55E00, #CC79A7, #56B4E9, #009E73, #F0E442, #0072B2\n",
      "                  classic: b, g, r, c, m, y, k\n",
      "          dark_background: #8dd3c7, #feffb3, #bfbbd9, #fa8174, #81b1d2, #fdb462, #b3de69, #bc82bd, #ccebc4, #ffed6f\n",
      "                     fast: this style does not modify colors\n",
      "          fivethirtyeight: #008fd5, #fc4f30, #e5ae38, #6d904f, #8b8b8b, #810f7c\n",
      "                   ggplot: #E24A33, #348ABD, #988ED5, #777777, #FBC15E, #8EBA42, #FFB5B8\n",
      "                grayscale: 0.00, 0.40, 0.60, 0.70\n",
      "           seaborn-bright: #003FFF, #03ED3A, #E8000B, #8A2BE2, #FFC400, #00D7FF\n",
      "       seaborn-colorblind: #0072B2, #009E73, #D55E00, #CC79A7, #F0E442, #56B4E9\n",
      "     seaborn-dark-palette: #001C7F, #017517, #8C0900, #7600A1, #B8860B, #006374\n",
      "             seaborn-dark: this style does not modify colors\n",
      "         seaborn-darkgrid: this style does not modify colors\n",
      "             seaborn-deep: #4C72B0, #55A868, #C44E52, #8172B2, #CCB974, #64B5CD\n",
      "            seaborn-muted: #4878CF, #6ACC65, #D65F5F, #B47CC7, #C4AD66, #77BEDB\n",
      "         seaborn-notebook: this style does not modify colors\n",
      "            seaborn-paper: this style does not modify colors\n",
      "           seaborn-pastel: #92C6FF, #97F0AA, #FF9F9A, #D0BBFF, #FFFEA3, #B0E0E6\n",
      "           seaborn-poster: this style does not modify colors\n",
      "             seaborn-talk: this style does not modify colors\n",
      "            seaborn-ticks: this style does not modify colors\n",
      "            seaborn-white: this style does not modify colors\n",
      "        seaborn-whitegrid: this style does not modify colors\n",
      "                  seaborn: #4C72B0, #55A868, #C44E52, #8172B2, #CCB974, #64B5CD\n",
      "          Solarize_Light2: #268BD2, #2AA198, #859900, #B58900, #CB4B16, #DC322F, #D33682, #6C71C4\n",
      "     tableau-colorblind10: #006BA4, #FF800E, #ABABAB, #595959, #5F9ED1, #C85200, #898989, #A2C8EC, #FFBC79, #CFCFCF\n",
      "      _classic_test_patch: this style does not modify colors\n"
     ]
    }
   ],
   "source": [
    "import matplotlib.pyplot as plt\n",
    "\n",
    "for style in plt.style.library: \n",
    "    the_rc = plt.style.library[style] \n",
    "    if 'axes.prop_cycle' in the_rc: \n",
    "        colors = the_rc['axes.prop_cycle'].by_key()['color'] \n",
    "        print('%25s: %s'%(style, ', '.join(color for color in colors))) \n",
    "    else: \n",
    "        print('%25s: this style does not modify colors'%style)"
   ]
  },
  {
   "cell_type": "markdown",
   "id": "22b3b604",
   "metadata": {},
   "source": [
    "To use the preset above before polting anything set"
   ]
  },
  {
   "cell_type": "code",
   "execution_count": 5,
   "id": "24311497",
   "metadata": {},
   "outputs": [],
   "source": [
    "plt.style.use('bmh') # for example\n",
    "#... plot. ..."
   ]
  }
 ],
 "metadata": {
  "kernelspec": {
   "display_name": "Python 3 (ipykernel)",
   "language": "python",
   "name": "python3"
  },
  "language_info": {
   "codemirror_mode": {
    "name": "ipython",
    "version": 3
   },
   "file_extension": ".py",
   "mimetype": "text/x-python",
   "name": "python",
   "nbconvert_exporter": "python",
   "pygments_lexer": "ipython3",
   "version": "3.9.7"
  }
 },
 "nbformat": 4,
 "nbformat_minor": 5
}
